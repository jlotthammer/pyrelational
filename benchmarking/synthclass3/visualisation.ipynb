{
 "cells": [
  {
   "cell_type": "code",
   "execution_count": null,
   "metadata": {},
   "outputs": [],
   "source": [
    "import pandas as pd \n",
    "import seaborn as sns \n",
    "import matplotlib.pyplot as plt\n",
    "import numpy as np"
   ]
  },
  {
   "cell_type": "code",
   "execution_count": null,
   "metadata": {},
   "outputs": [],
   "source": [
    "res = pd.read_csv(\"results.csv\")\n",
    "res"
   ]
  },
  {
   "cell_type": "code",
   "execution_count": null,
   "metadata": {},
   "outputs": [],
   "source": [
    "res[res.strategy==\"random\"]"
   ]
  },
  {
   "cell_type": "code",
   "execution_count": null,
   "metadata": {},
   "outputs": [],
   "source": [
    "aucs = res.drop_duplicates(subset=[\"strategy\",\"seed\"])\n",
    "agg = aucs.groupby(\"strategy\")[\"score\"]\n",
    "mean_aucs, std_aucs = agg.mean(), agg.std()\n",
    "aucs = pd.concat((mean_aucs, std_aucs), axis=1)\n",
    "aucs.columns = [\"avg\", \"stdv\"]\n",
    "aucs[\"score\"] = aucs.apply(lambda row: f\"{row.avg:.2f} ± {row.stdv:.2f}\"  ,axis=1)\n",
    "label_to_auc = dict(zip(aucs.index, aucs[\"score\"]))"
   ]
  },
  {
   "cell_type": "code",
   "execution_count": null,
   "metadata": {},
   "outputs": [],
   "source": [
    "sns.set_style(\"darkgrid\")\n",
    "\n",
    "sns.lineplot(data=res, x=\"iteration\", y=\"test_metric\", hue=\"strategy\")\n",
    "plt.ylabel(\"Balanced Accuracy\")\n",
    "plt.xlabel(\"Labelled Data Size\")\n",
    "\n",
    "current_xticks = plt.gca().get_xticks()\n",
    "plt.gca().set_xticklabels([int(label) + 10 for label in current_xticks])\n",
    "\n",
    "ax = plt.gca()\n",
    "legend = ax.get_legend()\n",
    "for text in legend.get_texts():\n",
    "    label = text.get_text()\n",
    "    new_label = f\"{label.replace('_', ' ').title()} (AUC = {label_to_auc[label]})\"\n",
    "    text.set_text(new_label)\n",
    "    \n",
    "\n",
    "for spine in ax.spines.values():\n",
    "    spine.set_visible(False)"
   ]
  },
  {
   "cell_type": "code",
   "execution_count": null,
   "metadata": {},
   "outputs": [],
   "source": []
  }
 ],
 "metadata": {
  "kernelspec": {
   "display_name": "pyrelational",
   "language": "python",
   "name": "python3"
  },
  "language_info": {
   "codemirror_mode": {
    "name": "ipython",
    "version": 3
   },
   "file_extension": ".py",
   "mimetype": "text/x-python",
   "name": "python",
   "nbconvert_exporter": "python",
   "pygments_lexer": "ipython3",
   "version": "3.12.2"
  }
 },
 "nbformat": 4,
 "nbformat_minor": 2
}
